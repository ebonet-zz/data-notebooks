{
 "cells": [
  {
   "cell_type": "markdown",
   "metadata": {},
   "source": [
    "# Neural Nets with Theano\n",
    "\n",
    "This notebook examplifies the use of Theano to build a neural network. "
   ]
  },
  {
   "cell_type": "markdown",
   "metadata": {},
   "source": [
    "## Using a simple data set\n",
    "\n",
    "To warm up, we will create a simple neural networks to emulate the sin(x) function. This was heavily inspired in [this tutorial](http://iamtrask.github.io/2015/07/12/basic-python-network/)."
   ]
  },
  {
   "cell_type": "code",
   "execution_count": 3,
   "metadata": {
    "collapsed": false
   },
   "outputs": [
    {
     "data": {
      "text/plain": [
       "[<matplotlib.lines.Line2D at 0x7f173bea6828>]"
      ]
     },
     "execution_count": 3,
     "metadata": {},
     "output_type": "execute_result"
    },
    {
     "data": {
      "image/png": "[encoded data removed]",
      "text/plain": [
       "<matplotlib.figure.Figure at 0x7f1743436438>"
      ]
     },
     "metadata": {},
     "output_type": "display_data"
    }
   ],
   "source": [
    "import numpy as np\n",
    "import matplotlib.pyplot as plt\n",
    "import scipy.optimize as op\n",
    "\n",
    "%matplotlib inline\n",
    "\n",
    "x = np.linspace(-1, 1, num=1000)*np.pi\n",
    "y = np.sin(x)\n",
    "\n",
    "plt.figure()\n",
    "plt.plot(x,y)\n",
    "\n",
    "\n",
    "\n"
   ]
  },
  {
   "cell_type": "markdown",
   "metadata": {},
   "source": [
    "Although not focues on Neural Network itself, Theanos is a library that facilitates the use of symbolic math. The first step to make this happen is to create our variables. Both our input and ouput are scalars, therefore:"
   ]
  },
  {
   "cell_type": "code",
   "execution_count": 4,
   "metadata": {
    "collapsed": false
   },
   "outputs": [],
   "source": [
    "# xT = T.dscalar()\n",
    "# yT = T.dscalar()"
   ]
  },
  {
   "cell_type": "markdown",
   "metadata": {},
   "source": [
    "As mentioned before, theanos is not armed with neural net functionality, so we have to implement by ourselves. First, lets implement the layer function."
   ]
  },
  {
   "cell_type": "code",
   "execution_count": 5,
   "metadata": {
    "collapsed": false
   },
   "outputs": [],
   "source": [
    "# def layer(inputs, theta):\n",
    "#     new_x = T.concatenate([inputs * T.ones(1), T.ones(1)]) # adds a bias unit: inputs + [1]\n",
    "#     h = nnet.sigmoid(T.dot(theta.T, new_x))\n",
    "#     return h\n",
    "\n"
   ]
  },
  {
   "cell_type": "markdown",
   "metadata": {},
   "source": [
    "Now, we need to specify the gradient descent function for our optimization."
   ]
  },
  {
   "cell_type": "code",
   "execution_count": 6,
   "metadata": {
    "collapsed": true
   },
   "outputs": [],
   "source": [
    "# def grad_desc(cost, theta, alpha):\n",
    "#     return theta - (alpha * T.grad(cost, wrt=theta))"
   ]
  },
  {
   "cell_type": "markdown",
   "metadata": {},
   "source": [
    "Next step is to structure our neural network. For now, it will have only one hidden layer with 3 neurons."
   ]
  },
  {
   "cell_type": "code",
   "execution_count": 14,
   "metadata": {
    "collapsed": false
   },
   "outputs": [],
   "source": [
    "# Sigmoid is used for categorical\n",
    "\n",
    "sigmoid = lambda k: 1/(1+np.exp(-k))\n",
    "der_sigmoid = lambda k: k*(1-k)\n",
    "\n",
    "tanh = lambda k: np.tanh(k)\n",
    "der_tanh = lambda k: (1 - np.tanh(k) ** 2)\n",
    "\n",
    "def with_bias_unit(layer):\n",
    "    return np.c_[np.ones((layer.shape[0], 1)), layer]\n",
    "\n",
    "\n",
    "def nn_cost_function(thetas, X, y, hidden_layer_size, act=sigmoid, der_act=der_sigmoid):\n",
    "    # Returns the error\n",
    "    n_examples = X.shape[0]\n",
    "    n_features = X.shape[1]\n",
    "    n_output = y.shape[1]\n",
    "    \n",
    "    theta1 = thetas[0:(hidden_layer_size*(n_features+1))].reshape((hidden_layer_size,(n_features+1)))\n",
    "    theta2 = thetas[(hidden_layer_size*(n_features+1)):].reshape((n_output,(hidden_layer_size+1)))\n",
    "                        \n",
    "    a1 = np.c_[ones((n_examples,1)),X] ;\n",
    "    z2 = a1 @ theta1.T;\n",
    "    a2 = np.c_[ones((n_examples,1)),act(z2)];\n",
    "    a3 = act(a2 @ theta2.T);\n",
    "    \n",
    "    # Deltas\n",
    "    \n",
    "    delta3 = a3 - y\n",
    "    delta2 = (delta3 @ theta2) * der_act(z2);\n",
    "    \n",
    "    J = np.mean((y-a3)**2)\n",
    "    \n",
    "    theta2_grad = (delta3.T @ a2) / n_examples    \n",
    "    theta1_grad = (delta2.T @ a1) / n_examples    \n",
    "    \n",
    "    grad = np.r_[theta1_grad.ravel(), theta2_grad.ravel()]\n",
    "    \n",
    "\n",
    "    return J, grad\n",
    "\n",
    "def build_nn(X, y, hidden_layer_size, act=sigmoid, der_act=der_sigmoid):\n",
    "    return lambda t: nn_cost_function(t, X, y, hidden_layer_size, act, der_act)\n",
    "    \n",
    "def run_forward(X,thetas, hidden_layer_size, output_size, act=sigmoid):\n",
    "    n_examples = X.shape[0]\n",
    "    n_features = X.shape[1]\n",
    "    \n",
    "    theta1 = thetas[0:(hidden_layer_size*n_features)].reshape((hidden_layer_size,n_features))\n",
    "    theta2 = thetas[(hidden_layer_size*n_features):].reshape((n_output,hidden_layer_size))\n",
    "                        \n",
    "    a1 = X;\n",
    "    z2 = a1 @ theta1.T;\n",
    "    a2 = act(z2);\n",
    "    return act(a2 @ theta2.T);\n",
    "\n",
    " "
   ]
  },
  {
   "cell_type": "code",
   "execution_count": 15,
   "metadata": {
    "collapsed": false
   },
   "outputs": [
    {
     "name": "stdout",
     "output_type": "stream",
     "text": [
      "dict_keys(['Theta1', '__header__', '__globals__', 'X', 'Theta2', '__version__', 'y'])\n"
     ]
    },
    {
     "ename": "ValueError",
     "evalue": "total size of new array must be unchanged",
     "output_type": "error",
     "traceback": [
      "\u001b[1;31m--------------------------------------------------------\u001b[0m",
      "\u001b[1;31mValueError\u001b[0m             Traceback (most recent call last)",
      "\u001b[1;32m<ipython-input-15-9e51a1f8a329>\u001b[0m in \u001b[0;36m<module>\u001b[1;34m()\u001b[0m\n\u001b[0;32m     19\u001b[0m \u001b[1;33m\u001b[0m\u001b[0m\n\u001b[0;32m     20\u001b[0m \u001b[1;33m\u001b[0m\u001b[0m\n\u001b[1;32m---> 21\u001b[1;33m \u001b[0mtest_nn_cost_function\u001b[0m\u001b[1;33m(\u001b[0m\u001b[1;33m)\u001b[0m\u001b[1;33m\u001b[0m\u001b[0m\n\u001b[0m",
      "\u001b[1;32m<ipython-input-15-9e51a1f8a329>\u001b[0m in \u001b[0;36mtest_nn_cost_function\u001b[1;34m()\u001b[0m\n\u001b[0;32m     14\u001b[0m     \u001b[0mn_hidden_layer\u001b[0m \u001b[1;33m=\u001b[0m \u001b[0mtheta1\u001b[0m\u001b[1;33m.\u001b[0m\u001b[0mshape\u001b[0m\u001b[1;33m[\u001b[0m\u001b[1;36m0\u001b[0m\u001b[1;33m]\u001b[0m\u001b[1;33m\u001b[0m\u001b[0m\n\u001b[0;32m     15\u001b[0m \u001b[1;33m\u001b[0m\u001b[0m\n\u001b[1;32m---> 16\u001b[1;33m     \u001b[0mJ\u001b[0m\u001b[1;33m,\u001b[0m \u001b[0mcost\u001b[0m \u001b[1;33m=\u001b[0m \u001b[0mnn_cost_function\u001b[0m\u001b[1;33m(\u001b[0m\u001b[0mthetas\u001b[0m\u001b[1;33m,\u001b[0m \u001b[0mdata\u001b[0m\u001b[1;33m[\u001b[0m\u001b[1;34m\"X\"\u001b[0m\u001b[1;33m]\u001b[0m\u001b[1;33m,\u001b[0m \u001b[0mdata\u001b[0m\u001b[1;33m[\u001b[0m\u001b[1;34m\"y\"\u001b[0m\u001b[1;33m]\u001b[0m\u001b[1;33m,\u001b[0m \u001b[0mn_hidden_layer\u001b[0m\u001b[1;33m,\u001b[0m \u001b[0mact\u001b[0m\u001b[1;33m=\u001b[0m\u001b[0msigmoid\u001b[0m\u001b[1;33m,\u001b[0m \u001b[0mder_act\u001b[0m\u001b[1;33m=\u001b[0m\u001b[0mder_sigmoid\u001b[0m\u001b[1;33m)\u001b[0m\u001b[1;33m\u001b[0m\u001b[0m\n\u001b[0m\u001b[0;32m     17\u001b[0m \u001b[1;33m\u001b[0m\u001b[0m\n\u001b[0;32m     18\u001b[0m     \u001b[0mprint\u001b[0m\u001b[1;33m(\u001b[0m\u001b[0mcost\u001b[0m\u001b[1;33m)\u001b[0m\u001b[1;33m\u001b[0m\u001b[0m\n",
      "\u001b[1;32m<ipython-input-14-7631756def16>\u001b[0m in \u001b[0;36mnn_cost_function\u001b[1;34m(thetas, X, y, hidden_layer_size, act, der_act)\u001b[0m\n\u001b[0;32m     18\u001b[0m \u001b[1;33m\u001b[0m\u001b[0m\n\u001b[0;32m     19\u001b[0m     \u001b[0mtheta1\u001b[0m \u001b[1;33m=\u001b[0m \u001b[0mthetas\u001b[0m\u001b[1;33m[\u001b[0m\u001b[1;36m0\u001b[0m\u001b[1;33m:\u001b[0m\u001b[1;33m(\u001b[0m\u001b[0mhidden_layer_size\u001b[0m\u001b[1;33m*\u001b[0m\u001b[1;33m(\u001b[0m\u001b[0mn_features\u001b[0m\u001b[1;33m+\u001b[0m\u001b[1;36m1\u001b[0m\u001b[1;33m)\u001b[0m\u001b[1;33m)\u001b[0m\u001b[1;33m]\u001b[0m\u001b[1;33m.\u001b[0m\u001b[0mreshape\u001b[0m\u001b[1;33m(\u001b[0m\u001b[1;33m(\u001b[0m\u001b[0mhidden_layer_size\u001b[0m\u001b[1;33m,\u001b[0m\u001b[1;33m(\u001b[0m\u001b[0mn_features\u001b[0m\u001b[1;33m+\u001b[0m\u001b[1;36m1\u001b[0m\u001b[1;33m)\u001b[0m\u001b[1;33m)\u001b[0m\u001b[1;33m)\u001b[0m\u001b[1;33m\u001b[0m\u001b[0m\n\u001b[1;32m---> 20\u001b[1;33m     \u001b[0mtheta2\u001b[0m \u001b[1;33m=\u001b[0m \u001b[0mthetas\u001b[0m\u001b[1;33m[\u001b[0m\u001b[1;33m(\u001b[0m\u001b[0mhidden_layer_size\u001b[0m\u001b[1;33m*\u001b[0m\u001b[1;33m(\u001b[0m\u001b[0mn_features\u001b[0m\u001b[1;33m+\u001b[0m\u001b[1;36m1\u001b[0m\u001b[1;33m)\u001b[0m\u001b[1;33m)\u001b[0m\u001b[1;33m:\u001b[0m\u001b[1;33m]\u001b[0m\u001b[1;33m.\u001b[0m\u001b[0mreshape\u001b[0m\u001b[1;33m(\u001b[0m\u001b[1;33m(\u001b[0m\u001b[0mn_output\u001b[0m\u001b[1;33m,\u001b[0m\u001b[1;33m(\u001b[0m\u001b[0mhidden_layer_size\u001b[0m\u001b[1;33m+\u001b[0m\u001b[1;36m1\u001b[0m\u001b[1;33m)\u001b[0m\u001b[1;33m)\u001b[0m\u001b[1;33m)\u001b[0m\u001b[1;33m\u001b[0m\u001b[0m\n\u001b[0m\u001b[0;32m     21\u001b[0m \u001b[1;33m\u001b[0m\u001b[0m\n\u001b[0;32m     22\u001b[0m     \u001b[0ma1\u001b[0m \u001b[1;33m=\u001b[0m \u001b[0mnp\u001b[0m\u001b[1;33m.\u001b[0m\u001b[0mc_\u001b[0m\u001b[1;33m[\u001b[0m\u001b[0mones\u001b[0m\u001b[1;33m(\u001b[0m\u001b[1;33m(\u001b[0m\u001b[0mn_examples\u001b[0m\u001b[1;33m,\u001b[0m\u001b[1;36m1\u001b[0m\u001b[1;33m)\u001b[0m\u001b[1;33m)\u001b[0m\u001b[1;33m,\u001b[0m\u001b[0mX\u001b[0m\u001b[1;33m]\u001b[0m \u001b[1;33m;\u001b[0m\u001b[1;33m\u001b[0m\u001b[0m\n",
      "\u001b[1;31mValueError\u001b[0m: total size of new array must be unchanged"
     ]
    }
   ],
   "source": [
    "\n",
    "def test_nn_cost_function():\n",
    "    import scipy.io\n",
    "\n",
    "    data = scipy.io.loadmat(\"ex4weights.mat\")\n",
    "    data = scipy.io.loadmat(\"ex4data1.mat\", mdict=data)\n",
    "    print(data.keys())\n",
    "    \n",
    "    theta1 = data[\"Theta1\"]\n",
    "    theta2 = data[\"Theta2\"]\n",
    "    \n",
    "    thetas = np.r_[data[\"Theta1\"].ravel(), data[\"Theta2\"].ravel()]\n",
    "    \n",
    "    n_hidden_layer = theta1.shape[0]\n",
    "    \n",
    "    J, cost = nn_cost_function(thetas, data[\"X\"], data[\"y\"], n_hidden_layer, act=sigmoid, der_act=der_sigmoid)\n",
    "    \n",
    "    print(cost)\n",
    "    \n",
    "\n",
    "test_nn_cost_function()"
   ]
  },
  {
   "cell_type": "code",
   "execution_count": 35,
   "metadata": {
    "collapsed": false
   },
   "outputs": [
    {
     "name": "stdout",
     "output_type": "stream",
     "text": [
      "Desired error not necessarily achieved due to precision loss.\n",
      "0.2497388979069376\n"
     ]
    }
   ],
   "source": [
    "\n",
    "Xsin = (np.random.random((300,1))*2 - 1) * np.pi\n",
    "ysin = np.sin(Xsin) / 2 + 0.5\n",
    "\n",
    "Xxor = np.array([[0,0],\n",
    "            [0,1],\n",
    "            [1,0],\n",
    "            [1,1]])\n",
    "                \n",
    "yxor = np.array([[0],\n",
    "              [1],\n",
    "              [1],\n",
    "              [0]])\n",
    "\n",
    "X = Xxor\n",
    "y=yxor\n",
    "n_hidden = 3\n",
    "n_input = X.shape[1]\n",
    "n_output = y.shape[1]\n",
    "\n",
    "init_thetas = np.random.random((n_input * n_hidden + n_hidden * n_output,1))\n",
    "\n",
    "nn = build_nn(X, y, n_hidden)\n",
    "\n",
    "res = op.minimize(nn, init_thetas, jac=True, tol=0.001, method = 'BFGS')\n",
    "\n",
    "print(res.message)\n",
    "print(res.fun)\n",
    "# run_forward(X, res.x, 3, 1)\n"
   ]
  },
  {
   "cell_type": "markdown",
   "metadata": {},
   "source": [
    "The final step is the function that runs the neural net forward, after we have trained it."
   ]
  },
  {
   "cell_type": "code",
   "execution_count": 32,
   "metadata": {
    "collapsed": false
   },
   "outputs": [
    {
     "data": {
      "text/plain": [
       "array([[0],\n",
       "       [1],\n",
       "       [1],\n",
       "       [0]])"
      ]
     },
     "execution_count": 32,
     "metadata": {},
     "output_type": "execute_result"
    },
    {
     "data": {
      "image/png": "[encoded data removed]",
      "text/plain": [
       "<matplotlib.figure.Figure at 0x7fe8c1035978>"
      ]
     },
     "metadata": {},
     "output_type": "display_data"
    }
   ],
   "source": [
    "yEst = run_forward(X, res.x, 3, 1);\n",
    "\n",
    "plt.figure();\n",
    "# plt.plot(X, yEst, 'g+')\n",
    "plt.plot(X, y, 'ro')\n"
   ]
  },
  {
   "cell_type": "code",
   "execution_count": 44,
   "metadata": {
    "collapsed": false
   },
   "outputs": [
    {
     "data": {
      "text/plain": [
       "55"
      ]
     },
     "execution_count": 44,
     "metadata": {},
     "output_type": "execute_result"
    }
   ],
   "source": [
    "np.arange(6) @ np.arange(6)"
   ]
  },
  {
   "cell_type": "code",
   "execution_count": null,
   "metadata": {
    "collapsed": true
   },
   "outputs": [],
   "source": []
  }
 ],
 "metadata": {
  "kernelspec": {
   "display_name": "Python 3",
   "language": "python",
   "name": "python3"
  },
  "language_info": {
   "codemirror_mode": {
    "name": "ipython",
    "version": 3
   },
   "file_extension": ".py",
   "mimetype": "text/x-python",
   "name": "python",
   "nbconvert_exporter": "python",
   "pygments_lexer": "ipython3",
   "version": "3.5.1"
  }
 },
 "nbformat": 4,
 "nbformat_minor": 0
}
