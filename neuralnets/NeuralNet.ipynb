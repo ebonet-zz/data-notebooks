{
 "cells": [
  {
   "cell_type": "markdown",
   "metadata": {},
   "source": [
    "# Neural Nets with Theano\n",
    "\n",
    "This notebook examplifies the use of Theano to build a neural network. "
   ]
  },
  {
   "cell_type": "markdown",
   "metadata": {},
   "source": [
    "## Using a simple data set\n",
    "\n",
    "To warm up, we will create a simple neural networks to emulate the sin(x) function. This was heavily inspired in [this tutorial](http://iamtrask.github.io/2015/07/12/basic-python-network/)."
   ]
  },
  {
   "cell_type": "code",
   "execution_count": 46,
   "metadata": {
    "collapsed": false
   },
   "outputs": [
    {
     "data": {
      "text/plain": [
       "[<matplotlib.lines.Line2D at 0x1076b0cc0>]"
      ]
     },
     "execution_count": 46,
     "metadata": {},
     "output_type": "execute_result"
    },
    {
     "data": {
      "image/png": "[encoded data removed]",
      "text/plain": [
       "<matplotlib.figure.Figure at 0x107457668>"
      ]
     },
     "metadata": {},
     "output_type": "display_data"
    }
   ],
   "source": [
    "import numpy as np\n",
    "import matplotlib.pyplot as plt\n",
    "import scipy.optimize as op\n",
    "\n",
    "%matplotlib inline\n",
    "\n",
    "x = np.linspace(-1, 1, num=1000)*np.pi\n",
    "y = np.sin(x)\n",
    "\n",
    "plt.figure()\n",
    "plt.plot(x,y)\n",
    "\n",
    "\n",
    "\n"
   ]
  },
  {
   "cell_type": "markdown",
   "metadata": {},
   "source": [
    "Although not focues on Neural Network itself, Theanos is a library that facilitates the use of symbolic math. The first step to make this happen is to create our variables. Both our input and ouput are scalars, therefore:"
   ]
  },
  {
   "cell_type": "code",
   "execution_count": 47,
   "metadata": {
    "collapsed": false
   },
   "outputs": [],
   "source": [
    "# xT = T.dscalar()\n",
    "# yT = T.dscalar()"
   ]
  },
  {
   "cell_type": "markdown",
   "metadata": {},
   "source": [
    "As mentioned before, theanos is not armed with neural net functionality, so we have to implement by ourselves. First, lets implement the layer function."
   ]
  },
  {
   "cell_type": "code",
   "execution_count": 48,
   "metadata": {
    "collapsed": false
   },
   "outputs": [],
   "source": [
    "# def layer(inputs, theta):\n",
    "#     new_x = T.concatenate([inputs * T.ones(1), T.ones(1)]) # adds a bias unit: inputs + [1]\n",
    "#     h = nnet.sigmoid(T.dot(theta.T, new_x))\n",
    "#     return h\n",
    "\n"
   ]
  },
  {
   "cell_type": "markdown",
   "metadata": {},
   "source": [
    "Now, we need to specify the gradient descent function for our optimization."
   ]
  },
  {
   "cell_type": "code",
   "execution_count": 49,
   "metadata": {
    "collapsed": true
   },
   "outputs": [],
   "source": [
    "# def grad_desc(cost, theta, alpha):\n",
    "#     return theta - (alpha * T.grad(cost, wrt=theta))"
   ]
  },
  {
   "cell_type": "markdown",
   "metadata": {},
   "source": [
    "Next step is to structure our neural network. For now, it will have only one hidden layer with 3 neurons."
   ]
  },
  {
   "cell_type": "code",
   "execution_count": 166,
   "metadata": {
    "collapsed": false
   },
   "outputs": [],
   "source": [
    "# Sigmoid is used for categorical\n",
    "\n",
    "sigmoid = lambda k: 1/(1+np.exp(-k))\n",
    "def der_sigmoid(k):\n",
    "    a= sigmoid(k)\n",
    "    return a*(1-a)\n",
    "\n",
    "tanh = lambda k: np.tanh(k)\n",
    "der_tanh = lambda k: (1 - np.tanh(k) ** 2)\n",
    "\n",
    "def with_bias_unit(layer):\n",
    "    return np.c_[np.ones((layer.shape[0], 1)), layer]\n",
    "\n",
    "\n",
    "def nn_cost_function(thetas, X, y, hidden_layer_size, act=sigmoid, der_act=der_sigmoid):\n",
    "    # Returns the error\n",
    "    n_examples = X.shape[0]\n",
    "    n_features = X.shape[1]\n",
    "    n_output = y.shape[1]\n",
    "    \n",
    "    theta1 = thetas[0:(hidden_layer_size*(n_features+1))].reshape((hidden_layer_size,(n_features+1)))\n",
    "    \n",
    "    theta2 = thetas[(hidden_layer_size*(n_features+1)):].reshape((n_output,(hidden_layer_size+1) ))\n",
    "    \n",
    "    a1 = np.c_[np.ones((n_examples,1)),X] ;\n",
    "    z2 = a1 @ theta1.T;\n",
    "    a2 = np.c_[np.ones((n_examples,1)),act(z2)];\n",
    "    a3 = act(a2 @ theta2.T);\n",
    "    \n",
    "    # Deltas\n",
    "    \n",
    "    delta3 = a3 - y\n",
    "    delta2 = (delta3 @ theta2) * np.c_[np.zeros((delta3.shape[0],1)), der_act(z2)];\n",
    "    \n",
    "    J = np.mean((y-a3)**2)\n",
    "    \n",
    "    theta2_grad = (delta3.T @ a2) / n_examples    \n",
    "    theta1_grad = (delta2[:,1:].T @ a1) / n_examples    \n",
    "        \n",
    "    grad = np.append(theta1_grad.ravel(order='F'), theta2_grad.ravel(order='F'))\n",
    "    \n",
    "    return J, grad\n",
    "\n",
    "def build_nn(X, y, hidden_layer_size, act=sigmoid, der_act=der_sigmoid):\n",
    "    return lambda t: nn_cost_function(t, X, y, hidden_layer_size, act, der_act)\n",
    "    \n",
    "def run_forward(X,thetas, hidden_layer_size, output_size, act=sigmoid):\n",
    "    n_examples = X.shape[0]\n",
    "    n_features = X.shape[1]\n",
    "    \n",
    "    theta1 = thetas[0:(hidden_layer_size*(n_features+1))].reshape((hidden_layer_size,(n_features+1)))\n",
    "    \n",
    "    theta2 = thetas[(hidden_layer_size*(n_features+1)):].reshape((output_size,(hidden_layer_size+1) ))        \n",
    "    \n",
    "    a1 = np.c_[np.ones((n_examples,1)),X] ;\n",
    "    z2 = a1 @ theta1.T;\n",
    "    a2 = np.c_[np.ones((n_examples,1)),act(z2)];\n",
    "    a3 = act(a2 @ theta2.T);\n",
    "    return a3;\n",
    "\n",
    " "
   ]
  },
  {
   "cell_type": "code",
   "execution_count": 158,
   "metadata": {
    "collapsed": false
   },
   "outputs": [
    {
     "name": "stdout",
     "output_type": "stream",
     "text": [
      "0.00889911959567\n",
      "[ -9.27825236e-03   8.89911960e-03  -8.36010762e-03   7.62813551e-03\n",
      "  -6.74798370e-03  -3.04978914e-06   1.42869443e-05  -2.59383100e-05\n",
      "   3.69883234e-05  -4.68759769e-05  -1.75060082e-04   2.33146357e-04\n",
      "  -2.87468729e-04   3.35320347e-04  -3.76215587e-04  -9.62660620e-05\n",
      "   1.17982666e-04  -1.37149706e-04   1.53247082e-04  -1.66560294e-04\n",
      "   3.14544970e-01   1.11056588e-01   9.74006970e-02   1.64090819e-01\n",
      "   5.75736493e-02   5.04575855e-02   1.64567932e-01   5.77867378e-02\n",
      "   5.07530173e-02   1.58339334e-01   5.59235296e-02   4.91620841e-02\n",
      "   1.51127527e-01   5.36967009e-02   4.71456249e-02   1.49568335e-01\n",
      "   5.31542052e-02   4.65597186e-02]\n"
     ]
    }
   ],
   "source": [
    "\n",
    "def check_nn_gradients():\n",
    "    \n",
    "    def debug_initialize_weights(fan_out, fan_in):\n",
    "        n = fan_out * (fan_in + 1)\n",
    "        return np.sin(np.arange(n)+1).reshape((fan_out, fan_in+1), order='F') / 10\n",
    "    \n",
    "    import scipy.io\n",
    "    \n",
    "    input_layer_size = 3;\n",
    "    hidden_layer_size = 5;\n",
    "    num_labels = 3;\n",
    "    m = 5;\n",
    "\n",
    "    Theta1 = debug_initialize_weights(hidden_layer_size, input_layer_size);\n",
    "    Theta2 = debug_initialize_weights(num_labels, hidden_layer_size);\n",
    "    nn_params = np.r_[Theta1.ravel(), Theta2.ravel()]\n",
    "    \n",
    "    X  = debug_initialize_weights(m, input_layer_size - 1);\n",
    "    y  = 1 + np.mod(np.arange(m)+1, num_labels).reshape((m,1));\n",
    "    y = np.equal(np.tile(np.arange(num_labels)+1,(m,1)), y)*1\n",
    "    \n",
    "    costFunc = lambda p: nn_cost_function(p, X, y, hidden_layer_size);\n",
    "    \n",
    "    J, grad = costFunc(nn_params)\n",
    "    \n",
    "check_nn_gradients()"
   ]
  },
  {
   "cell_type": "code",
   "execution_count": 183,
   "metadata": {
    "collapsed": false
   },
   "outputs": [
    {
     "name": "stderr",
     "output_type": "stream",
     "text": [
      "/Users/bonet/.virtualenvs/data-python3.5/lib/python3.5/site-packages/scipy/optimize/_minimize.py:381: RuntimeWarning: Method Nelder-Mead does not use gradient information (jac).\n",
      "  RuntimeWarning)\n"
     ]
    },
    {
     "name": "stdout",
     "output_type": "stream",
     "text": [
      "Maximum number of function evaluations has been exceeded.\n",
      "0.00769574368858\n"
     ]
    }
   ],
   "source": [
    "\n",
    "Xsin = (np.random.random((300,1))*2 - 1) * np.pi\n",
    "ysin = np.sin(Xsin) / 2 + 0.5\n",
    "\n",
    "Xxor = np.array([[0,0],\n",
    "            [0,1],\n",
    "            [1,0],\n",
    "            [1,1]])\n",
    "                \n",
    "yxor = np.array([[0],\n",
    "              [1],\n",
    "              [1],\n",
    "              [0]])\n",
    "\n",
    "X = Xsin\n",
    "y=ysin\n",
    "n_hidden = 3\n",
    "n_input = X.shape[1]\n",
    "n_output = y.shape[1]\n",
    "\n",
    "init_thetas = np.random.random(((n_input+1) * n_hidden + (n_hidden+1) * n_output,1))\n",
    "\n",
    "nn = build_nn(X, y, n_hidden)\n",
    "\n",
    "res = op.minimize(nn, init_thetas, jac=True, tol=0.00001, method = 'Nelder-Mead')\n",
    "\n",
    "print(res.message)\n",
    "print(res.fun)\n",
    "# run_forward(X, res.x, 3, 1)\n"
   ]
  },
  {
   "cell_type": "markdown",
   "metadata": {},
   "source": [
    "The final step is the function that runs the neural net forward, after we have trained it."
   ]
  },
  {
   "cell_type": "code",
   "execution_count": 184,
   "metadata": {
    "collapsed": false
   },
   "outputs": [
    {
     "data": {
      "text/plain": [
       "[<matplotlib.lines.Line2D at 0x109360a58>]"
      ]
     },
     "execution_count": 184,
     "metadata": {},
     "output_type": "execute_result"
    },
    {
     "data": {
      "image/png": "[encoded data removed]",
      "text/plain": [
       "<matplotlib.figure.Figure at 0x1096b8f28>"
      ]
     },
     "metadata": {},
     "output_type": "display_data"
    }
   ],
   "source": [
    "yEst = run_forward(X, res.x, 3, 1);\n",
    "\n",
    "plt.figure();\n",
    "plt.plot(X, yEst, 'g+')\n",
    "plt.plot(X, y, 'ro')\n"
   ]
  },
  {
   "cell_type": "code",
   "execution_count": 179,
   "metadata": {
    "collapsed": false
   },
   "outputs": [
    {
     "data": {
      "text/plain": [
       "55"
      ]
     },
     "execution_count": 179,
     "metadata": {},
     "output_type": "execute_result"
    }
   ],
   "source": [
    "np.arange(6) @ np.arange(6)"
   ]
  },
  {
   "cell_type": "code",
   "execution_count": null,
   "metadata": {
    "collapsed": true
   },
   "outputs": [],
   "source": []
  }
 ],
 "metadata": {
  "kernelspec": {
   "display_name": "Python 3",
   "language": "python",
   "name": "python3"
  },
  "language_info": {
   "codemirror_mode": {
    "name": "ipython",
    "version": 3
   },
   "file_extension": ".py",
   "mimetype": "text/x-python",
   "name": "python",
   "nbconvert_exporter": "python",
   "pygments_lexer": "ipython3",
   "version": "3.5.1"
  }
 },
 "nbformat": 4,
 "nbformat_minor": 0
}
