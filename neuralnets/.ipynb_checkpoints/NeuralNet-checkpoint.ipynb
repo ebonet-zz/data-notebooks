{
 "cells": [
  {
   "cell_type": "markdown",
   "metadata": {},
   "source": [
    "# Neural Nets with Theano\n",
    "\n",
    "This notebook examplifies the use of Theano to build a neural network. "
   ]
  },
  {
   "cell_type": "markdown",
   "metadata": {},
   "source": [
    "## Using a simple data set\n",
    "\n",
    "To warm up, we will create a simple neural networks to emulate the sin(x) function. This was heavily inspired in [this tutorial](http://iamtrask.github.io/2015/07/12/basic-python-network/)."
   ]
  },
  {
   "cell_type": "code",
   "execution_count": 1,
   "metadata": {
    "collapsed": false
   },
   "outputs": [
    {
     "data": {
      "text/plain": [
       "[<matplotlib.lines.Line2D at 0x106270630>]"
      ]
     },
     "execution_count": 1,
     "metadata": {},
     "output_type": "execute_result"
    },
    {
     "data": {
      "image/png": "[encoded data removed]",
      "text/plain": [
       "<matplotlib.figure.Figure at 0x103f09390>"
      ]
     },
     "metadata": {},
     "output_type": "display_data"
    }
   ],
   "source": [
    "import numpy as np\n",
    "import matplotlib.pyplot as plt\n",
    "\n",
    "%matplotlib inline\n",
    "\n",
    "x = np.linspace(-1, 1, num=1000)*np.pi\n",
    "y = np.sin(x)\n",
    "\n",
    "plt.figure()\n",
    "plt.plot(x,y)\n",
    "\n",
    "\n",
    "\n"
   ]
  },
  {
   "cell_type": "markdown",
   "metadata": {},
   "source": [
    "Although not focues on Neural Network itself, Theanos is a library that facilitates the use of symbolic math. The first step to make this happen is to create our variables. Both our input and ouput are scalars, therefore:"
   ]
  },
  {
   "cell_type": "code",
   "execution_count": 2,
   "metadata": {
    "collapsed": false
   },
   "outputs": [],
   "source": [
    "# xT = T.dscalar()\n",
    "# yT = T.dscalar()"
   ]
  },
  {
   "cell_type": "markdown",
   "metadata": {},
   "source": [
    "As mentioned before, theanos is not armed with neural net functionality, so we have to implement by ourselves. First, lets implement the layer function."
   ]
  },
  {
   "cell_type": "code",
   "execution_count": 3,
   "metadata": {
    "collapsed": false
   },
   "outputs": [],
   "source": [
    "# def layer(inputs, theta):\n",
    "#     new_x = T.concatenate([inputs * T.ones(1), T.ones(1)]) # adds a bias unit: inputs + [1]\n",
    "#     h = nnet.sigmoid(T.dot(theta.T, new_x))\n",
    "#     return h\n",
    "\n"
   ]
  },
  {
   "cell_type": "markdown",
   "metadata": {},
   "source": [
    "Now, we need to specify the gradient descent function for our optimization."
   ]
  },
  {
   "cell_type": "code",
   "execution_count": 4,
   "metadata": {
    "collapsed": true
   },
   "outputs": [],
   "source": [
    "# def grad_desc(cost, theta, alpha):\n",
    "#     return theta - (alpha * T.grad(cost, wrt=theta))"
   ]
  },
  {
   "cell_type": "markdown",
   "metadata": {},
   "source": [
    "Next step is to structure our neural network. For now, it will have only one hidden layer with 3 neurons."
   ]
  },
  {
   "cell_type": "code",
   "execution_count": 61,
   "metadata": {
    "collapsed": false
   },
   "outputs": [
    {
     "name": "stdout",
     "output_type": "stream",
     "text": [
      "Error at  0 > 0.656185091524\n"
     ]
    },
    {
     "name": "stderr",
     "output_type": "stream",
     "text": [
      "/Users/bonet/.virtualenvs/data-python3.5/lib/python3.5/site-packages/ipykernel/__main__.py:45: RuntimeWarning: overflow encountered in exp\n"
     ]
    },
    {
     "name": "stdout",
     "output_type": "stream",
     "text": [
      "Error at  500 > 0.635982628472\n",
      "Error at  1000 > 0.635982628472\n",
      "Error at  1500 > 0.635982628472\n",
      "Error at  2000 > 0.635982628472\n",
      "Error at  2500 > 0.635982628472\n",
      "Error at  3000 > 0.635982628472\n",
      "Error at  3500 > 0.635982628472\n",
      "Error at  4000 > 0.635982628472\n",
      "Error at  4500 > 0.635982628472\n",
      "Error at  5000 > 0.635982628472\n",
      "Error at  5500 > 0.635982628472\n",
      "Error at  6000 > 0.635982628472\n",
      "Error at  6500 > 0.635982628472\n",
      "Error at  7000 > 0.635982628472\n",
      "Error at  7500 > 0.635982628472\n",
      "Error at  8000 > 0.635982628472\n",
      "Error at  8500 > 0.635982628472\n",
      "Error at  9000 > 0.635982628472\n",
      "Error at  9500 > 0.635982628472\n"
     ]
    }
   ],
   "source": [
    "# theta1 = theano.shared(np.array(np.random.rand(2,3), dtype=theano.config.floatX)) # randomly initialize\n",
    "# theta2 = theano.shared(np.array(np.random.rand(4,3), dtype=theano.config.floatX))\n",
    "# theta3 = theano.shared(np.array(np.random.rand(4,1), dtype=theano.config.floatX))\n",
    "\n",
    "# hid1 = layer(xT, theta1) # hidden layer\n",
    "# hid2 = layer(hid1, theta2) # hidden layer\n",
    "# out1 = T.sum(layer(hid2, theta3)) # output layer\n",
    "# fc = (out1 - yT)**2 # cost expression\n",
    "\n",
    "# a = 0.1 # learning rate\n",
    "\n",
    "# # Backpropagation\n",
    "# cost = theano.function(inputs=[xT, yT], outputs=fc, updates=[\n",
    "#         (theta1, grad_desc(fc, theta1, a)),\n",
    "#         (theta2, grad_desc(fc, theta2, a)),\n",
    "#         (theta3, grad_desc(fc, theta3, a))])\n",
    "\n",
    "\n",
    "# theta2 = 2*np.random.random((3,4)) - 1\n",
    "\n",
    "\n",
    "# X = np.array([[0,0],\n",
    "#               [0,1],\n",
    "#               [1,0],\n",
    "#               [1,1]])\n",
    "\n",
    "# output dataset           \n",
    "\n",
    "# Y = np.array([[0,0,1,1]]).T\n",
    "\n",
    "\n",
    "X = x.reshape((1000,1)) #[np.random.random(1000) < 0.1,];\n",
    "\n",
    "Y = np.sin(X)\n",
    "\n",
    "nsamples = X.shape[0]\n",
    "nfeatures = X.shape[1]\n",
    "\n",
    "\n",
    "syn0 = 2*np.random.random((4,2)) - 1\n",
    "syn1 = 2*np.random.random((5,1)) - 1\n",
    "\n",
    "\n",
    "def sigmoid(k):\n",
    "    return 1/(1+np.exp(-k))\n",
    "\n",
    "def with_bias_unit(layer):\n",
    "    return np.c_[np.ones((1, layer.shape[0])), layer]\n",
    "    \n",
    "for j in range(1):\n",
    "    \n",
    "    # FeedForward\n",
    "#     a1 = with_bias_unit(X)\n",
    "#     z2 = np.dot(Theta1,a1.T)\n",
    "#     a2 = np.c_[np.ones((1,z2.shape[1])),sigmoid(z2)]\n",
    "#     z3 = np.dot(Theta2,a2)\n",
    "#     a3 = sigmoid(z3)\n",
    "    \n",
    "    l0 = with_bias_unit(X)\n",
    "    z1 = syn0.dot(l0.T)\n",
    "    l1 = with_bias_unit(sigmoid(z1));\n",
    "    z2 = syn1.dot(l1.T)\n",
    "    l2 = sigmoid(l1.dot(syn1));\n",
    "    \n",
    "    # Deltas\n",
    "    error = Y - l2\n",
    "    \n",
    "    l2_delta = error * (l2 * (1-l2))\n",
    "    l1_delta = l2_delta.dot(syn1[1:,:].T) * (z1 * (1-z1))\n",
    "    \n",
    "    # updates    \n",
    "    alpha = 1\n",
    "    \n",
    "    syn1 += alpha * l1.T.dot(l2_delta)\n",
    "    \n",
    "    syn0 += alpha * l0.T.dot(l1_delta)\n",
    "    \n",
    "    if (j % 500 ) == 0:\n",
    "        print(\"Error at \",j,\">\", np.mean(np.abs(error)))\n",
    "\n",
    "def run_forward(x):\n",
    "    l1 = sigmoid(with_bias_unit(x).dot(syn0) );\n",
    "    l2 = sigmoid(with_bias_unit(l1).dot(syn1) );\n",
    "    return l2\n",
    "    "
   ]
  },
  {
   "cell_type": "markdown",
   "metadata": {},
   "source": [
    "The final step is the function that runs the neural net forward, after we have trained it."
   ]
  },
  {
   "cell_type": "code",
   "execution_count": 62,
   "metadata": {
    "collapsed": false
   },
   "outputs": [
    {
     "name": "stderr",
     "output_type": "stream",
     "text": [
      "/Users/bonet/.virtualenvs/data-python3.5/lib/python3.5/site-packages/ipykernel/__main__.py:45: RuntimeWarning: overflow encountered in exp\n"
     ]
    },
    {
     "data": {
      "text/plain": [
       "[<matplotlib.lines.Line2D at 0x107186978>]"
      ]
     },
     "execution_count": 62,
     "metadata": {},
     "output_type": "execute_result"
    },
    {
     "data": {
      "image/png": "[encoded data removed]",
      "text/plain": [
       "<matplotlib.figure.Figure at 0x1071d8630>"
      ]
     },
     "metadata": {},
     "output_type": "display_data"
    }
   ],
   "source": [
    "yEst = run_forward(X);\n",
    "\n",
    "plt.figure();\n",
    "plt.plot(X, yEst)\n",
    "plt.plot(X, Y, 'ro')\n"
   ]
  },
  {
   "cell_type": "code",
   "execution_count": 65,
   "metadata": {
    "collapsed": false
   },
   "outputs": [
    {
     "data": {
      "text/plain": [
       "array([[1, 4],\n",
       "       [2, 5],\n",
       "       [3, 6]])"
      ]
     },
     "execution_count": 65,
     "metadata": {},
     "output_type": "execute_result"
    }
   ],
   "source": [
    "np.c_[np.array([1,2,3]),np.array([4,5,6])]"
   ]
  },
  {
   "cell_type": "code",
   "execution_count": null,
   "metadata": {
    "collapsed": true
   },
   "outputs": [],
   "source": []
  }
 ],
 "metadata": {
  "kernelspec": {
   "display_name": "Python 3",
   "language": "python",
   "name": "python3"
  },
  "language_info": {
   "codemirror_mode": {
    "name": "ipython",
    "version": 3
   },
   "file_extension": ".py",
   "mimetype": "text/x-python",
   "name": "python",
   "nbconvert_exporter": "python",
   "pygments_lexer": "ipython3",
   "version": "3.5.1"
  }
 },
 "nbformat": 4,
 "nbformat_minor": 0
}
